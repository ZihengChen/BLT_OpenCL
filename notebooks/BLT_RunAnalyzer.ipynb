{
 "cells": [
  {
   "cell_type": "code",
   "execution_count": 1,
   "metadata": {},
   "outputs": [],
   "source": [
    "from DileptonAnalyzer import *\n",
    "import glob"
   ]
  },
  {
   "cell_type": "code",
   "execution_count": 2,
   "metadata": {},
   "outputs": [],
   "source": [
    "inputDir  = \"/home/zchen/cms/data/EGamma_Run2018B/\"\n",
    "outputDir = \"/home/zchen/Documents/Analysis/nanoaod/data/hdf5/EGamma_2018B/\"\n",
    "fileNames = glob.glob(inputDir+\"*.root\")"
   ]
  },
  {
   "cell_type": "markdown",
   "metadata": {},
   "source": [
    "# Small Test Run one file Only when debugging"
   ]
  },
  {
   "cell_type": "code",
   "execution_count": 3,
   "metadata": {},
   "outputs": [
    {
     "name": "stdout",
     "output_type": "stream",
     "text": [
      "Portable Computing Language pthread-AMD Ryzen 7 2700X Eight-Core Processor OpenCL 1.2 pocl HSTR: pthread-x86_64-unknown-linux-gnu-znver1\n",
      "--- n =  2326522\n",
      "io read :    5085.61 ms\n",
      "cl run  :      83.84 ms -- profiler: kernal  6.31 ms [rate = 0.3689 x1E9 event/s ]\n",
      "io write:     111.94 ms\n",
      "--- n =  1043059\n",
      "io read :    2434.82 ms\n",
      "cl run  :       3.00 ms -- profiler: kernal  2.66 ms [rate = 0.3914 x1E9 event/s ]\n",
      "io write:      45.97 ms\n"
     ]
    }
   ],
   "source": [
    "ana = DileptonAnalyzer()\n",
    "for file in fileNames[0:2]:\n",
    "    ana.load_features_from_nanoaod(file)\n",
    "    ana.initiate_output_features_on_host_and_device()\n",
    "    ana.run_analyzer()\n",
    "    ana.realse_features_on_device()\n",
    "    ana.save_catagorized_events_as_h5(outputDir)"
   ]
  }
 ],
 "metadata": {
  "kernelspec": {
   "display_name": "Python 3",
   "language": "python",
   "name": "python3"
  },
  "language_info": {
   "codemirror_mode": {
    "name": "ipython",
    "version": 3
   },
   "file_extension": ".py",
   "mimetype": "text/x-python",
   "name": "python",
   "nbconvert_exporter": "python",
   "pygments_lexer": "ipython3",
   "version": "3.7.6"
  }
 },
 "nbformat": 4,
 "nbformat_minor": 4
}
