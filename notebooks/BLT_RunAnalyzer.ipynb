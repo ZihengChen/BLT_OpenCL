{
 "cells": [
  {
   "cell_type": "code",
   "execution_count": 1,
   "metadata": {},
   "outputs": [],
   "source": [
    "from DileptonAnalyzer import *\n",
    "import glob"
   ]
  },
  {
   "cell_type": "code",
   "execution_count": 2,
   "metadata": {},
   "outputs": [],
   "source": [
    "inputDir  = \"/home/zchen/cms/data/EGamma_Run2018B/\"\n",
    "outputDir = \"/home/zchen/Documents/Analysis/nanoaod/data/hdf5/EGamma_2018B/\"\n",
    "fileNames = glob.glob(inputDir+\"*.root\")"
   ]
  },
  {
   "cell_type": "markdown",
   "metadata": {},
   "source": [
    "# Small Test Run one file Only when debugging"
   ]
  },
  {
   "cell_type": "code",
   "execution_count": 3,
   "metadata": {},
   "outputs": [
    {
     "name": "stdout",
     "output_type": "stream",
     "text": [
      "NVIDIA CUDA GeForce GTX 1080 Ti OpenCL 1.2 CUDA\n",
      "--- n =  2326522\n",
      "io read :    5092.24 ms\n",
      "cl run  :      45.60 ms -- profiler: kernel  0.52 ms [rate = 4.512 x1E9 event/s ]\n",
      "io write:     116.04 ms\n",
      "--- n =  1043059\n",
      "io read :    2460.63 ms\n",
      "cl run  :      21.76 ms -- profiler: kernel  0.25 ms [rate =  4.25 x1E9 event/s ]\n",
      "io write:      48.30 ms\n"
     ]
    }
   ],
   "source": [
    "ana = DileptonAnalyzer()\n",
    "for file in fileNames[0:2]:\n",
    "    ana.load_features_from_nanoaod(file)\n",
    "    ana.initiate_output_features_on_host_and_device()\n",
    "    ana.run_analyzer()\n",
    "    ana.realse_features_on_device()\n",
    "    ana.save_catagorized_events_as_h5(outputDir)"
   ]
  },
  {
   "cell_type": "code",
   "execution_count": null,
   "metadata": {},
   "outputs": [],
   "source": []
  }
 ],
 "metadata": {
  "kernelspec": {
   "display_name": "Python 3",
   "language": "python",
   "name": "python3"
  },
  "language_info": {
   "codemirror_mode": {
    "name": "ipython",
    "version": 3
   },
   "file_extension": ".py",
   "mimetype": "text/x-python",
   "name": "python",
   "nbconvert_exporter": "python",
   "pygments_lexer": "ipython3",
   "version": "3.7.6"
  }
 },
 "nbformat": 4,
 "nbformat_minor": 4
}
