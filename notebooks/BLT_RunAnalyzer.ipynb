{
 "cells": [
  {
   "cell_type": "code",
   "execution_count": 1,
   "metadata": {},
   "outputs": [],
   "source": [
    "from EventSelection import *\n",
    "import glob"
   ]
  },
  {
   "cell_type": "code",
   "execution_count": 2,
   "metadata": {},
   "outputs": [],
   "source": [
    "inputDir  = \"/home/zchen/cms/data/EGamma_Run2018B/\"\n",
    "outputDir = \"/home/zchen/Documents/Analysis/nanoaod/data/hdf5/EGamma_2018B/\"\n",
    "fileNames = glob.glob(inputDir+\"*.root\")"
   ]
  },
  {
   "cell_type": "markdown",
   "metadata": {},
   "source": [
    "# Small Test Run one file Only when debugging"
   ]
  },
  {
   "cell_type": "code",
   "execution_count": 3,
   "metadata": {},
   "outputs": [
    {
     "name": "stdout",
     "output_type": "stream",
     "text": [
      "NVIDIA CUDA GeForce GTX 1080 Ti OpenCL 1.2 CUDA\n",
      "--- n =  2326522\n",
      "io read:  5.1022658010188024\n",
      "evtCata:  0.04974364998633973\n",
      "io save:  0.11392152798362076\n"
     ]
    }
   ],
   "source": [
    "ana = EventSelection()\n",
    "file = fileNames[0]\n",
    "ana.load_features_from_nanoaod_to_device(file)\n",
    "ana.initiate_intermediate_and_output_features_on_host_and_device()\n",
    "ana.run_analyzer()\n",
    "ana.realse_features_on_device()\n",
    "ana.save_event_retures_as_h5(outputDir)"
   ]
  }
 ],
 "metadata": {
  "kernelspec": {
   "display_name": "Python 3",
   "language": "python",
   "name": "python3"
  },
  "language_info": {
   "codemirror_mode": {
    "name": "ipython",
    "version": 3
   },
   "file_extension": ".py",
   "mimetype": "text/x-python",
   "name": "python",
   "nbconvert_exporter": "python",
   "pygments_lexer": "ipython3",
   "version": "3.7.6"
  }
 },
 "nbformat": 4,
 "nbformat_minor": 4
}
