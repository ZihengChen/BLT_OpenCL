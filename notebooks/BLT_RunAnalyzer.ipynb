{
 "cells": [
  {
   "cell_type": "code",
   "execution_count": 1,
   "metadata": {},
   "outputs": [],
   "source": [
    "from DileptonAnalyzer import *\n",
    "import glob"
   ]
  },
  {
   "cell_type": "code",
   "execution_count": 2,
   "metadata": {},
   "outputs": [],
   "source": [
    "inputDir  = \"/home/zchen/cms/data/EGamma_Run2018B/\"\n",
    "outputDir = \"/home/zchen/Documents/Analysis/nanoaod/data/hdf5/EGamma_2018B/\"\n",
    "fileNames = glob.glob(inputDir+\"*.root\")"
   ]
  },
  {
   "cell_type": "markdown",
   "metadata": {},
   "source": [
    "# Small Test Run one file Only when debugging"
   ]
  },
  {
   "cell_type": "code",
   "execution_count": 3,
   "metadata": {},
   "outputs": [
    {
     "name": "stdout",
     "output_type": "stream",
     "text": [
      "NVIDIA CUDA GeForce GTX 1080 Ti OpenCL 1.2 CUDA\n",
      "--- n =  2326522\n",
      "io read:  5.095082289015409\n",
      "evtCata:  0.1251995830098167\n",
      "io save:  0.1153614969807677\n"
     ]
    }
   ],
   "source": [
    "ana = DileptonAnalyzer()\n",
    "file = fileNames[0]\n",
    "ana.load_features_from_nanoaod(file)\n",
    "ana.initiate_output_features_on_host_and_device()\n",
    "ana.run_analyzer()\n",
    "ana.realse_features_on_device()\n",
    "ana.save_event_retures_as_h5(outputDir)"
   ]
  },
  {
   "cell_type": "code",
   "execution_count": null,
   "metadata": {},
   "outputs": [],
   "source": []
  }
 ],
 "metadata": {
  "kernelspec": {
   "display_name": "Python 3",
   "language": "python",
   "name": "python3"
  },
  "language_info": {
   "codemirror_mode": {
    "name": "ipython",
    "version": 3
   },
   "file_extension": ".py",
   "mimetype": "text/x-python",
   "name": "python",
   "nbconvert_exporter": "python",
   "pygments_lexer": "ipython3",
   "version": "3.7.6"
  }
 },
 "nbformat": 4,
 "nbformat_minor": 4
}
